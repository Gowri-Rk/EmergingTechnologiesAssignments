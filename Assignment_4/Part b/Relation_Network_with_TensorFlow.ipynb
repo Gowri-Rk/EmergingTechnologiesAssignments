{
  "nbformat": 4,
  "nbformat_minor": 0,
  "metadata": {
    "colab": {
      "name": "Relation Network with TensorFlow.ipynb",
      "provenance": [],
      "authorship_tag": "ABX9TyNILmMluufc//qd5bpUsOI1",
      "include_colab_link": true
    },
    "kernelspec": {
      "name": "python3",
      "display_name": "Python 3"
    }
  },
  "cells": [
    {
      "cell_type": "markdown",
      "metadata": {
        "id": "view-in-github",
        "colab_type": "text"
      },
      "source": [
        "<a href=\"https://colab.research.google.com/github/Gowri-Rk/EmergingTechnologiesAssignments/blob/master/Assignment_4/Part%20b/Relation_Network_with_TensorFlow.ipynb\" target=\"_parent\"><img src=\"https://colab.research.google.com/assets/colab-badge.svg\" alt=\"Open In Colab\"/></a>"
      ]
    },
    {
      "cell_type": "markdown",
      "metadata": {
        "id": "F0BujyqH8YY8"
      },
      "source": [
        "**Building Relation Network Using Tensorflow**\n"
      ]
    },
    {
      "cell_type": "code",
      "metadata": {
        "id": "Vi-9L5kc8fxN"
      },
      "source": [
        "import tensorflow as tf\n",
        "import numpy as np"
      ],
      "execution_count": 1,
      "outputs": []
    },
    {
      "cell_type": "code",
      "metadata": {
        "id": "oYqnxFz59PgB",
        "outputId": "74d6a699-c0cf-4d70-ce3e-62e6c7fd0334",
        "colab": {
          "base_uri": "https://localhost:8080/"
        }
      },
      "source": [
        "import tensorflow.compat.v1 as tf\n",
        "tf.disable_v2_behavior()"
      ],
      "execution_count": 8,
      "outputs": [
        {
          "output_type": "stream",
          "text": [
            "WARNING:tensorflow:From /usr/local/lib/python3.6/dist-packages/tensorflow/python/compat/v2_compat.py:96: disable_resource_variables (from tensorflow.python.ops.variable_scope) is deprecated and will be removed in a future version.\n",
            "Instructions for updating:\n",
            "non-resource variables are not supported in the long term\n"
          ],
          "name": "stdout"
        }
      ]
    },
    {
      "cell_type": "code",
      "metadata": {
        "id": "UWbfuR5L8lVR"
      },
      "source": [
        "classA = np.random.rand(1000,18)\n",
        "\n",
        "ClassB = np.random.rand(1000,18)"
      ],
      "execution_count": 2,
      "outputs": []
    },
    {
      "cell_type": "code",
      "metadata": {
        "id": "SLfPTStr8ov6"
      },
      "source": [
        "data = np.vstack([classA, ClassB])"
      ],
      "execution_count": 3,
      "outputs": []
    },
    {
      "cell_type": "code",
      "metadata": {
        "id": "iEAjAt4I8q4o"
      },
      "source": [
        "label = np.vstack([np.ones((len(classA),1)),np.zeros((len(ClassB),1))])"
      ],
      "execution_count": 4,
      "outputs": []
    },
    {
      "cell_type": "code",
      "metadata": {
        "id": "G_Wty2Vq8tKO",
        "outputId": "c02c639f-e862-44d8-bcfe-c348106e7e9e",
        "colab": {
          "base_uri": "https://localhost:8080/"
        }
      },
      "source": [
        "data.shape"
      ],
      "execution_count": 5,
      "outputs": [
        {
          "output_type": "execute_result",
          "data": {
            "text/plain": [
              "(2000, 18)"
            ]
          },
          "metadata": {
            "tags": []
          },
          "execution_count": 5
        }
      ]
    },
    {
      "cell_type": "code",
      "metadata": {
        "id": "ASmKUplk8u_W",
        "outputId": "02335269-cbdd-483b-892d-d8e87e05437f",
        "colab": {
          "base_uri": "https://localhost:8080/"
        }
      },
      "source": [
        "label.shape"
      ],
      "execution_count": 6,
      "outputs": [
        {
          "output_type": "execute_result",
          "data": {
            "text/plain": [
              "(2000, 1)"
            ]
          },
          "metadata": {
            "tags": []
          },
          "execution_count": 6
        }
      ]
    },
    {
      "cell_type": "code",
      "metadata": {
        "id": "P58EwJUz8w-n"
      },
      "source": [
        "xi = tf.placeholder(tf.float32, [None, 9])\n",
        "xj = tf.placeholder(tf.float32, [None, 9])"
      ],
      "execution_count": 9,
      "outputs": []
    },
    {
      "cell_type": "code",
      "metadata": {
        "id": "oQ_F4UUy8z3Z"
      },
      "source": [
        "y = tf.placeholder(tf.float32, [None, 1])"
      ],
      "execution_count": 10,
      "outputs": []
    },
    {
      "cell_type": "code",
      "metadata": {
        "id": "SNWO8AcI9WdL"
      },
      "source": [
        "def embedding_function(x):\n",
        "    \n",
        "    weights = tf.Variable(tf.truncated_normal([9,1]))\n",
        "    bias = tf.Variable(tf.truncated_normal([1]))\n",
        "    \n",
        "    a = (tf.nn.xw_plus_b(x,weights,bias))\n",
        "    embeddings = tf.nn.relu(a)\n",
        "    \n",
        "    return embeddings"
      ],
      "execution_count": 11,
      "outputs": []
    },
    {
      "cell_type": "code",
      "metadata": {
        "id": "btS17Kff9Y67"
      },
      "source": [
        "f_xi = embedding_function(xi)"
      ],
      "execution_count": 12,
      "outputs": []
    },
    {
      "cell_type": "code",
      "metadata": {
        "id": "GB3o6CDK9a7j"
      },
      "source": [
        "f_xj = embedding_function(xj)"
      ],
      "execution_count": 13,
      "outputs": []
    },
    {
      "cell_type": "code",
      "metadata": {
        "id": "UM1QgjVh9cpu"
      },
      "source": [
        "Z = tf.concat([f_xi,f_xj],axis=1)"
      ],
      "execution_count": 14,
      "outputs": []
    },
    {
      "cell_type": "code",
      "metadata": {
        "id": "26IRtRBD9efR"
      },
      "source": [
        "def relation_function(x):\n",
        "    w1 = tf.Variable(tf.truncated_normal([2,3]))\n",
        "    b1 = tf.Variable(tf.truncated_normal([3]))\n",
        "    \n",
        "    w2 = tf.Variable(tf.truncated_normal([3,5]))\n",
        "    b2 = tf.Variable(tf.truncated_normal([5]))\n",
        "    \n",
        "    w3 = tf.Variable(tf.truncated_normal([5,1]))\n",
        "    b3 = tf.Variable(tf.truncated_normal([1]))\n",
        "    \n",
        "    #layer1\n",
        "    z1 = (tf.nn.xw_plus_b(x,w1,b1))\n",
        "    a1 = tf.nn.relu(z1)\n",
        "    \n",
        "    #layer2\n",
        "    z2 = tf.nn.xw_plus_b(a1,w2,b2)\n",
        "    a2 = tf.nn.relu(z2)\n",
        "    \n",
        "    #layer3\n",
        "    z3 = tf.nn.xw_plus_b(z2,w3,b3)\n",
        "\n",
        "    #output\n",
        "    y = tf.nn.sigmoid(z3)\n",
        "    \n",
        "    return y"
      ],
      "execution_count": 15,
      "outputs": []
    },
    {
      "cell_type": "code",
      "metadata": {
        "id": "JjNdGwE59g-w"
      },
      "source": [
        "relation_scores = relation_function(Z)"
      ],
      "execution_count": 16,
      "outputs": []
    },
    {
      "cell_type": "code",
      "metadata": {
        "id": "u0fJIW_t9iwk"
      },
      "source": [
        "loss_function = tf.reduce_mean(tf.squared_difference(relation_scores,y))"
      ],
      "execution_count": 17,
      "outputs": []
    },
    {
      "cell_type": "code",
      "metadata": {
        "id": "rwmmCM6D9kTS"
      },
      "source": [
        "optimizer = tf.train.AdamOptimizer(0.1)\n",
        "train = optimizer.minimize(loss_function)"
      ],
      "execution_count": 18,
      "outputs": []
    },
    {
      "cell_type": "code",
      "metadata": {
        "id": "M7moDxz_9nr4"
      },
      "source": [
        "sess = tf.InteractiveSession()\n",
        "sess.run(tf.global_variables_initializer())"
      ],
      "execution_count": 19,
      "outputs": []
    },
    {
      "cell_type": "code",
      "metadata": {
        "id": "7gkd8JIB9qGX",
        "outputId": "f7882f6b-b5f9-4c15-8b47-516e5eb459fc",
        "colab": {
          "base_uri": "https://localhost:8080/"
        }
      },
      "source": [
        "for episode in range(1000):\n",
        "    _, loss_value = sess.run([train, loss_function], \n",
        "                             feed_dict={xi:data[:,0:9]+np.random.randn(*np.shape(data[:,0:9]))*0.05,\n",
        "                                        xj:data[:,9:]+np.random.randn(*np.shape(data[:,9:]))*0.05,\n",
        "                                        y:label})\n",
        "    if episode % 100 == 0:\n",
        "        print(\"Episode {}: loss {:.3f} \".format(episode, loss_value))"
      ],
      "execution_count": 20,
      "outputs": [
        {
          "output_type": "stream",
          "text": [
            "Episode 0: loss 0.497 \n",
            "Episode 100: loss 0.250 \n",
            "Episode 200: loss 0.250 \n",
            "Episode 300: loss 0.250 \n",
            "Episode 400: loss 0.250 \n",
            "Episode 500: loss 0.250 \n",
            "Episode 600: loss 0.250 \n",
            "Episode 700: loss 0.250 \n",
            "Episode 800: loss 0.250 \n",
            "Episode 900: loss 0.250 \n"
          ],
          "name": "stdout"
        }
      ]
    },
    {
      "cell_type": "code",
      "metadata": {
        "id": "z5-snwmE9s8a"
      },
      "source": [
        ""
      ],
      "execution_count": null,
      "outputs": []
    }
  ]
}