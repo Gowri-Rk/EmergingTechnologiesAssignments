{
  "nbformat": 4,
  "nbformat_minor": 0,
  "metadata": {
    "colab": {
      "name": "Tensorflow Boosted Trees.ipynb",
      "provenance": [],
      "collapsed_sections": [],
      "authorship_tag": "ABX9TyOvjNENosyP2/UGZAr4MZ1U",
      "include_colab_link": true
    },
    "kernelspec": {
      "name": "python3",
      "display_name": "Python 3"
    }
  },
  "cells": [
    {
      "cell_type": "markdown",
      "metadata": {
        "id": "view-in-github",
        "colab_type": "text"
      },
      "source": [
        "<a href=\"https://colab.research.google.com/github/Gowri-Rk/EmergingTechnologiesAssignments/blob/master/Assignment_7/Tensorflow_Boosted_Trees.ipynb\" target=\"_parent\"><img src=\"https://colab.research.google.com/assets/colab-badge.svg\" alt=\"Open In Colab\"/></a>"
      ]
    },
    {
      "cell_type": "markdown",
      "metadata": {
        "id": "K520RC8cTo29"
      },
      "source": [
        "**Gradient boosting machines**\r\n",
        "\r\n",
        "Boosted Trees\r\n",
        "\r\n",
        "References:\r\n",
        "\r\n",
        "https://www.tensorflow.org/tutorials/estimator/boosted_trees\r\n",
        "\r\n"
      ]
    },
    {
      "cell_type": "markdown",
      "metadata": {
        "id": "qJTkXtTKTvjT"
      },
      "source": [
        "## imports"
      ]
    },
    {
      "cell_type": "code",
      "metadata": {
        "id": "oxRK_fpvTuOO"
      },
      "source": [
        "import numpy as np\r\n",
        "import pandas as pd\r\n",
        "from IPython.display import clear_output\r\n",
        "from matplotlib import pyplot as plt\r\n"
      ],
      "execution_count": 2,
      "outputs": []
    },
    {
      "cell_type": "code",
      "metadata": {
        "id": "KZmxc89NTyVD"
      },
      "source": [
        "# Load dataset.\r\n",
        "dftrain = pd.read_csv('https://storage.googleapis.com/tf-datasets/titanic/train.csv')\r\n",
        "dfeval = pd.read_csv('https://storage.googleapis.com/tf-datasets/titanic/eval.csv')\r\n",
        "y_train = dftrain.pop('survived')\r\n",
        "y_eval = dfeval.pop('survived')"
      ],
      "execution_count": 3,
      "outputs": []
    },
    {
      "cell_type": "code",
      "metadata": {
        "id": "OmVRD82CURG1"
      },
      "source": [
        "import tensorflow as tf\r\n",
        "tf.random.set_seed(123)"
      ],
      "execution_count": 4,
      "outputs": []
    },
    {
      "cell_type": "code",
      "metadata": {
        "colab": {
          "base_uri": "https://localhost:8080/",
          "height": 196
        },
        "id": "jSTlUnkjUTBh",
        "outputId": "e3d0f5dc-904f-4174-e9be-5ed34afa650e"
      },
      "source": [
        "dftrain.head()\r\n"
      ],
      "execution_count": 5,
      "outputs": [
        {
          "output_type": "execute_result",
          "data": {
            "text/html": [
              "<div>\n",
              "<style scoped>\n",
              "    .dataframe tbody tr th:only-of-type {\n",
              "        vertical-align: middle;\n",
              "    }\n",
              "\n",
              "    .dataframe tbody tr th {\n",
              "        vertical-align: top;\n",
              "    }\n",
              "\n",
              "    .dataframe thead th {\n",
              "        text-align: right;\n",
              "    }\n",
              "</style>\n",
              "<table border=\"1\" class=\"dataframe\">\n",
              "  <thead>\n",
              "    <tr style=\"text-align: right;\">\n",
              "      <th></th>\n",
              "      <th>sex</th>\n",
              "      <th>age</th>\n",
              "      <th>n_siblings_spouses</th>\n",
              "      <th>parch</th>\n",
              "      <th>fare</th>\n",
              "      <th>class</th>\n",
              "      <th>deck</th>\n",
              "      <th>embark_town</th>\n",
              "      <th>alone</th>\n",
              "    </tr>\n",
              "  </thead>\n",
              "  <tbody>\n",
              "    <tr>\n",
              "      <th>0</th>\n",
              "      <td>male</td>\n",
              "      <td>22.0</td>\n",
              "      <td>1</td>\n",
              "      <td>0</td>\n",
              "      <td>7.2500</td>\n",
              "      <td>Third</td>\n",
              "      <td>unknown</td>\n",
              "      <td>Southampton</td>\n",
              "      <td>n</td>\n",
              "    </tr>\n",
              "    <tr>\n",
              "      <th>1</th>\n",
              "      <td>female</td>\n",
              "      <td>38.0</td>\n",
              "      <td>1</td>\n",
              "      <td>0</td>\n",
              "      <td>71.2833</td>\n",
              "      <td>First</td>\n",
              "      <td>C</td>\n",
              "      <td>Cherbourg</td>\n",
              "      <td>n</td>\n",
              "    </tr>\n",
              "    <tr>\n",
              "      <th>2</th>\n",
              "      <td>female</td>\n",
              "      <td>26.0</td>\n",
              "      <td>0</td>\n",
              "      <td>0</td>\n",
              "      <td>7.9250</td>\n",
              "      <td>Third</td>\n",
              "      <td>unknown</td>\n",
              "      <td>Southampton</td>\n",
              "      <td>y</td>\n",
              "    </tr>\n",
              "    <tr>\n",
              "      <th>3</th>\n",
              "      <td>female</td>\n",
              "      <td>35.0</td>\n",
              "      <td>1</td>\n",
              "      <td>0</td>\n",
              "      <td>53.1000</td>\n",
              "      <td>First</td>\n",
              "      <td>C</td>\n",
              "      <td>Southampton</td>\n",
              "      <td>n</td>\n",
              "    </tr>\n",
              "    <tr>\n",
              "      <th>4</th>\n",
              "      <td>male</td>\n",
              "      <td>28.0</td>\n",
              "      <td>0</td>\n",
              "      <td>0</td>\n",
              "      <td>8.4583</td>\n",
              "      <td>Third</td>\n",
              "      <td>unknown</td>\n",
              "      <td>Queenstown</td>\n",
              "      <td>y</td>\n",
              "    </tr>\n",
              "  </tbody>\n",
              "</table>\n",
              "</div>"
            ],
            "text/plain": [
              "      sex   age  n_siblings_spouses  parch  ...  class     deck  embark_town alone\n",
              "0    male  22.0                   1      0  ...  Third  unknown  Southampton     n\n",
              "1  female  38.0                   1      0  ...  First        C    Cherbourg     n\n",
              "2  female  26.0                   0      0  ...  Third  unknown  Southampton     y\n",
              "3  female  35.0                   1      0  ...  First        C  Southampton     n\n",
              "4    male  28.0                   0      0  ...  Third  unknown   Queenstown     y\n",
              "\n",
              "[5 rows x 9 columns]"
            ]
          },
          "metadata": {
            "tags": []
          },
          "execution_count": 5
        }
      ]
    },
    {
      "cell_type": "code",
      "metadata": {
        "colab": {
          "base_uri": "https://localhost:8080/"
        },
        "id": "XKQN75oLUj4M",
        "outputId": "6acbcd55-1641-413f-9227-98883f0b0555"
      },
      "source": [
        "dftrain.shape[0], dfeval.shape[0]"
      ],
      "execution_count": 6,
      "outputs": [
        {
          "output_type": "execute_result",
          "data": {
            "text/plain": [
              "(627, 264)"
            ]
          },
          "metadata": {
            "tags": []
          },
          "execution_count": 6
        }
      ]
    },
    {
      "cell_type": "code",
      "metadata": {
        "colab": {
          "base_uri": "https://localhost:8080/",
          "height": 265
        },
        "id": "PJzaSgBQUmqV",
        "outputId": "ce94894d-5ab3-4285-dd2a-16d1a1e28ecb"
      },
      "source": [
        "dftrain.age.hist(bins=20)\r\n",
        "plt.show()"
      ],
      "execution_count": 7,
      "outputs": [
        {
          "output_type": "display_data",
          "data": {
            "image/png": "[encoded data removed]",
            "text/plain": [
              "<Figure size 432x288 with 1 Axes>"
            ]
          },
          "metadata": {
            "tags": [],
            "needs_background": "light"
          }
        }
      ]
    },
    {
      "cell_type": "code",
      "metadata": {
        "colab": {
          "base_uri": "https://localhost:8080/",
          "height": 290
        },
        "id": "VcJf5GfKUoQq",
        "outputId": "2307cd82-b29f-4b45-b951-8e0e553fa028"
      },
      "source": [
        "dftrain.sex.value_counts().plot(kind='bar')\r\n",
        "plt.show()"
      ],
      "execution_count": 9,
      "outputs": [
        {
          "output_type": "display_data",
          "data": {
            "image/png": "[encoded data removed]",
            "text/plain": [
              "<Figure size 432x288 with 1 Axes>"
            ]
          },
          "metadata": {
            "tags": [],
            "needs_background": "light"
          }
        }
      ]
    },
    {
      "cell_type": "code",
      "metadata": {
        "colab": {
          "base_uri": "https://localhost:8080/",
          "height": 292
        },
        "id": "SEF1BlNZUppX",
        "outputId": "68b6cfec-96f3-4729-ed36-b6b22ca26c0e"
      },
      "source": [
        "dftrain['class'].value_counts().plot(kind='bar')\r\n",
        "plt.show()"
      ],
      "execution_count": 10,
      "outputs": [
        {
          "output_type": "display_data",
          "data": {
            "image/png": "[encoded data removed]",
            "text/plain": [
              "<Figure size 432x288 with 1 Axes>"
            ]
          },
          "metadata": {
            "tags": [],
            "needs_background": "light"
          }
        }
      ]
    },
    {
      "cell_type": "code",
      "metadata": {
        "colab": {
          "base_uri": "https://localhost:8080/",
          "height": 322
        },
        "id": "Q88klOr_Ux7a",
        "outputId": "5fbe6148-f019-465d-c7d9-2749a4effd5c"
      },
      "source": [
        "dftrain['embark_town'].value_counts().plot(kind='bar')\r\n",
        "plt.show()"
      ],
      "execution_count": 11,
      "outputs": [
        {
          "output_type": "display_data",
          "data": {
            "image/png": "[encoded data removed]",
            "text/plain": [
              "<Figure size 432x288 with 1 Axes>"
            ]
          },
          "metadata": {
            "tags": [],
            "needs_background": "light"
          }
        }
      ]
    },
    {
      "cell_type": "code",
      "metadata": {
        "colab": {
          "base_uri": "https://localhost:8080/",
          "height": 304
        },
        "id": "a8VkcckEU0sn",
        "outputId": "a1481367-a64b-482c-e701-5058ee04d43e"
      },
      "source": [
        "pd.concat([dftrain, y_train], axis=1).groupby('sex').survived.mean().plot(kind='bar').set_xlabel('% survive')\r\n",
        "plt.show()"
      ],
      "execution_count": 12,
      "outputs": [
        {
          "output_type": "display_data",
          "data": {
            "image/png": "[encoded data removed]",
            "text/plain": [
              "<Figure size 432x288 with 1 Axes>"
            ]
          },
          "metadata": {
            "tags": [],
            "needs_background": "light"
          }
        }
      ]
    },
    {
      "cell_type": "code",
      "metadata": {
        "id": "OzwcUXljU3UN"
      },
      "source": [
        "CATEGORICAL_COLUMNS = ['sex', 'n_siblings_spouses', 'parch', 'class', 'deck',\r\n",
        "                       'embark_town', 'alone']"
      ],
      "execution_count": 13,
      "outputs": []
    },
    {
      "cell_type": "code",
      "metadata": {
        "id": "EcMDJ03DU7KJ"
      },
      "source": [
        "NUMERIC_COLUMNS = ['age', 'fare']"
      ],
      "execution_count": 14,
      "outputs": []
    },
    {
      "cell_type": "code",
      "metadata": {
        "id": "14PoL8I-U8kn"
      },
      "source": [
        "def one_hot_cat_column(feature_name, vocab):\r\n",
        "  return tf.feature_column.indicator_column(\r\n",
        "      tf.feature_column.categorical_column_with_vocabulary_list(feature_name,\r\n",
        "                                                 vocab))"
      ],
      "execution_count": 15,
      "outputs": []
    },
    {
      "cell_type": "code",
      "metadata": {
        "id": "utCZdBwyU-to"
      },
      "source": [
        "feature_columns = []\r\n",
        "for feature_name in CATEGORICAL_COLUMNS:\r\n",
        "  # Need to one-hot encode categorical features.\r\n",
        "  vocabulary = dftrain[feature_name].unique()\r\n",
        "  feature_columns.append(one_hot_cat_column(feature_name, vocabulary))"
      ],
      "execution_count": 16,
      "outputs": []
    },
    {
      "cell_type": "code",
      "metadata": {
        "id": "RZsjPcz0VA1f"
      },
      "source": [
        "for feature_name in NUMERIC_COLUMNS:\r\n",
        "  feature_columns.append(tf.feature_column.numeric_column(feature_name,\r\n",
        "                                           dtype=tf.float32))"
      ],
      "execution_count": 17,
      "outputs": []
    },
    {
      "cell_type": "code",
      "metadata": {
        "colab": {
          "base_uri": "https://localhost:8080/"
        },
        "id": "StdqJ2mDVCxO",
        "outputId": "d4d65686-8620-4543-be4d-10d672afda6c"
      },
      "source": [
        "example = dict(dftrain.head(1))\r\n",
        "class_fc = tf.feature_column.indicator_column(tf.feature_column.categorical_column_with_vocabulary_list('class', ('First', 'Second', 'Third')))\r\n",
        "print('Feature value: \"{}\"'.format(example['class'].iloc[0]))\r\n",
        "print('One-hot encoded: ', tf.keras.layers.DenseFeatures([class_fc])(example).numpy())"
      ],
      "execution_count": 18,
      "outputs": [
        {
          "output_type": "stream",
          "text": [
            "Feature value: \"Third\"\n",
            "One-hot encoded:  [[0. 0. 1.]]\n"
          ],
          "name": "stdout"
        }
      ]
    },
    {
      "cell_type": "code",
      "metadata": {
        "colab": {
          "base_uri": "https://localhost:8080/"
        },
        "id": "KavpSgZNVHUE",
        "outputId": "be84164a-5141-4126-94ef-6e7e0cb1c04c"
      },
      "source": [
        "tf.keras.layers.DenseFeatures(feature_columns)(example).numpy()"
      ],
      "execution_count": 19,
      "outputs": [
        {
          "output_type": "execute_result",
          "data": {
            "text/plain": [
              "array([[22.  ,  1.  ,  0.  ,  1.  ,  0.  ,  0.  ,  1.  ,  0.  ,  0.  ,\n",
              "         0.  ,  0.  ,  0.  ,  0.  ,  0.  ,  1.  ,  0.  ,  0.  ,  0.  ,\n",
              "         7.25,  1.  ,  0.  ,  0.  ,  0.  ,  0.  ,  0.  ,  0.  ,  1.  ,\n",
              "         0.  ,  0.  ,  0.  ,  0.  ,  0.  ,  1.  ,  0.  ]], dtype=float32)"
            ]
          },
          "metadata": {
            "tags": []
          },
          "execution_count": 19
        }
      ]
    },
    {
      "cell_type": "code",
      "metadata": {
        "id": "5ni7FvQAVJZT"
      },
      "source": [
        "# Use entire batch since this is such a small dataset.\r\n",
        "NUM_EXAMPLES = len(y_train)\r\n",
        "\r\n",
        "def make_input_fn(X, y, n_epochs=None, shuffle=True):\r\n",
        "  def input_fn():\r\n",
        "    dataset = tf.data.Dataset.from_tensor_slices((dict(X), y))\r\n",
        "    if shuffle:\r\n",
        "      dataset = dataset.shuffle(NUM_EXAMPLES)\r\n",
        "    # For training, cycle thru dataset as many times as need (n_epochs=None).\r\n",
        "    dataset = dataset.repeat(n_epochs)\r\n",
        "    # In memory training doesn't use batching.\r\n",
        "    dataset = dataset.batch(NUM_EXAMPLES)\r\n",
        "    return dataset\r\n",
        "  return input_fn\r\n",
        "\r\n",
        "# Training and evaluation input functions.\r\n",
        "train_input_fn = make_input_fn(dftrain, y_train)\r\n",
        "eval_input_fn = make_input_fn(dfeval, y_eval, shuffle=False, n_epochs=1)"
      ],
      "execution_count": 20,
      "outputs": []
    },
    {
      "cell_type": "code",
      "metadata": {
        "colab": {
          "base_uri": "https://localhost:8080/"
        },
        "id": "YQFjB6eWVLxX",
        "outputId": "7c407389-996f-4931-c560-c123a34818f4"
      },
      "source": [
        "linear_est = tf.estimator.LinearClassifier(feature_columns)\r\n",
        "\r\n",
        "# Train model.\r\n",
        "linear_est.train(train_input_fn, max_steps=100)\r\n",
        "\r\n",
        "# Evaluation.\r\n",
        "result = linear_est.evaluate(eval_input_fn)\r\n",
        "clear_output()\r\n",
        "print(pd.Series(result))"
      ],
      "execution_count": 21,
      "outputs": [
        {
          "output_type": "stream",
          "text": [
            "accuracy                  0.765152\n",
            "accuracy_baseline         0.625000\n",
            "auc                       0.832844\n",
            "auc_precision_recall      0.789631\n",
            "average_loss              0.478908\n",
            "label/mean                0.375000\n",
            "loss                      0.478908\n",
            "precision                 0.703297\n",
            "prediction/mean           0.350790\n",
            "recall                    0.646465\n",
            "global_step             100.000000\n",
            "dtype: float64\n"
          ],
          "name": "stdout"
        }
      ]
    },
    {
      "cell_type": "code",
      "metadata": {
        "colab": {
          "base_uri": "https://localhost:8080/"
        },
        "id": "P9ZJf9EOVOCT",
        "outputId": "5bb7c29a-f7d4-4b69-e36e-29f90b97bec5"
      },
      "source": [
        "n_batches = 1\r\n",
        "est = tf.estimator.BoostedTreesClassifier(feature_columns,\r\n",
        "                                          n_batches_per_layer=n_batches)\r\n",
        "\r\n",
        "est.train(train_input_fn, max_steps=100)\r\n",
        "\r\n",
        "# Eval.\r\n",
        "result = est.evaluate(eval_input_fn)\r\n",
        "clear_output()\r\n",
        "print(pd.Series(result))"
      ],
      "execution_count": 22,
      "outputs": [
        {
          "output_type": "stream",
          "text": [
            "accuracy                  0.833333\n",
            "accuracy_baseline         0.625000\n",
            "auc                       0.875666\n",
            "auc_precision_recall      0.861114\n",
            "average_loss              0.404098\n",
            "label/mean                0.375000\n",
            "loss                      0.404098\n",
            "precision                 0.795699\n",
            "prediction/mean           0.384739\n",
            "recall                    0.747475\n",
            "global_step             100.000000\n",
            "dtype: float64\n"
          ],
          "name": "stdout"
        }
      ]
    },
    {
      "cell_type": "code",
      "metadata": {
        "colab": {
          "base_uri": "https://localhost:8080/",
          "height": 381
        },
        "id": "fkejVBjlVTU0",
        "outputId": "00dad27d-9b52-4728-d423-7740a112d38d"
      },
      "source": [
        "pred_dicts = list(est.predict(eval_input_fn))\r\n",
        "probs = pd.Series([pred['probabilities'][1] for pred in pred_dicts])\r\n",
        "\r\n",
        "probs.plot(kind='hist', bins=20, title='predicted probabilities')\r\n",
        "plt.show()"
      ],
      "execution_count": 23,
      "outputs": [
        {
          "output_type": "stream",
          "text": [
            "INFO:tensorflow:Calling model_fn.\n",
            "INFO:tensorflow:Done calling model_fn.\n",
            "INFO:tensorflow:Graph was finalized.\n",
            "INFO:tensorflow:Restoring parameters from /tmp/tmpvvjt_j_r/model.ckpt-100\n",
            "INFO:tensorflow:Running local_init_op.\n",
            "INFO:tensorflow:Done running local_init_op.\n"
          ],
          "name": "stdout"
        },
        {
          "output_type": "display_data",
          "data": {
            "image/png": "[encoded data removed]",
            "text/plain": [
              "<Figure size 432x288 with 1 Axes>"
            ]
          },
          "metadata": {
            "tags": [],
            "needs_background": "light"
          }
        }
      ]
    },
    {
      "cell_type": "code",
      "metadata": {
        "colab": {
          "base_uri": "https://localhost:8080/",
          "height": 295
        },
        "id": "WtrQzMD4VWE9",
        "outputId": "2f51a267-18bf-405b-c9ec-222e3125267e"
      },
      "source": [
        "from sklearn.metrics import roc_curve\r\n",
        "\r\n",
        "fpr, tpr, _ = roc_curve(y_eval, probs)\r\n",
        "plt.plot(fpr, tpr)\r\n",
        "plt.title('ROC curve')\r\n",
        "plt.xlabel('false positive rate')\r\n",
        "plt.ylabel('true positive rate')\r\n",
        "plt.xlim(0,)\r\n",
        "plt.ylim(0,)\r\n",
        "plt.show()"
      ],
      "execution_count": 24,
      "outputs": [
        {
          "output_type": "display_data",
          "data": {
            "image/png": "[encoded data removed]",
            "text/plain": [
              "<Figure size 432x288 with 1 Axes>"
            ]
          },
          "metadata": {
            "tags": [],
            "needs_background": "light"
          }
        }
      ]
    },
    {
      "cell_type": "code",
      "metadata": {
        "id": "lKBRu1VLVYHP"
      },
      "source": [
        ""
      ],
      "execution_count": null,
      "outputs": []
    }
  ]
}