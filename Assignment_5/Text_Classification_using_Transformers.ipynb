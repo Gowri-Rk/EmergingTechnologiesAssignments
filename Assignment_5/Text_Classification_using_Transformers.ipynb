{
  "nbformat": 4,
  "nbformat_minor": 0,
  "metadata": {
    "colab": {
      "name": "ET Text Classification using Transformers.ipynb",
      "provenance": [],
      "collapsed_sections": [],
      "authorship_tag": "ABX9TyObxEBCMNdPouKs1Dk5S+BN",
      "include_colab_link": true
    },
    "kernelspec": {
      "name": "python3",
      "display_name": "Python 3"
    },
    "accelerator": "GPU"
  },
  "cells": [
    {
      "cell_type": "markdown",
      "metadata": {
        "id": "view-in-github",
        "colab_type": "text"
      },
      "source": [
        "<a href=\"https://colab.research.google.com/github/Gowri-Rk/EmergingTechnologiesAssignments/blob/master/Assignment_5/Text_Classification_using_Transformers.ipynb\" target=\"_parent\"><img src=\"https://colab.research.google.com/assets/colab-badge.svg\" alt=\"Open In Colab\"/></a>"
      ]
    },
    {
      "cell_type": "markdown",
      "metadata": {
        "id": "l7hTU3ORNE4P"
      },
      "source": [
        "Text classificaiton of IMDB data using transformers \n",
        "\n",
        "Reference: https://keras.io/examples/nlp/text_classification_with_transformer/ "
      ]
    },
    {
      "cell_type": "code",
      "metadata": {
        "id": "p5jDD_MWNpkj"
      },
      "source": [
        "import tensorflow as tf\n",
        "from tensorflow import keras"
      ],
      "execution_count": 1,
      "outputs": []
    },
    {
      "cell_type": "markdown",
      "metadata": {
        "id": "Bjfr7cjFOIDx"
      },
      "source": [
        "##Creating a multihead self-attention as a keras layer"
      ]
    },
    {
      "cell_type": "code",
      "metadata": {
        "id": "1wuQj3KcOHFC"
      },
      "source": [
        "class MHSAttention(keras.layers.Layer):\n",
        "  def __init__(self, e_dim, headcount=8):\n",
        "    super(MHSAttention, self).__init__()\n",
        "\n",
        "    #embedded dimension\n",
        "    self.e_dim = e_dim\n",
        "\n",
        "    #number of heads\n",
        "    self.headcount = headcount\n",
        "\n",
        "    if e_dim % headcount != 0:\n",
        "      raise ValueError(f\"embedding dimension = {e_dim} should be divisible by number of heads = {headcount}\")\n",
        "    \n",
        "    #projection_dimension\n",
        "    self.p_dim = e_dim // headcount\n",
        "    self.query_layer = keras.layers.Dense(e_dim)\n",
        "    self.key_layer = keras.layers.Dense(e_dim)\n",
        "    self.value_layer = keras.layers.Dense(e_dim)\n",
        "    self.combined = keras.layers.Dense(e_dim)\n",
        "\n",
        "  \n",
        "  def attention(self, query, key, value):\n",
        "    score = tf.matmul(query, key, transpose_b=True)\n",
        "    dim_key = tf.cast(tf.shape(key)[-1],tf.float32)\n",
        "    score_seal_value = score / tf.math.sqrt(dim_key)\n",
        "\n",
        "    weights = tf.nn.softmax(score_seal_value, axis=-1)\n",
        "    output = tf.matmul(weights, value)\n",
        "    return output, weights\n",
        "  \n",
        "\n",
        "  def separate_heads(self, batchsize, x):\n",
        "    x = tf.reshape(x, (batchsize, -1, self.headcount, self.p_dim))\n",
        "    return tf.transpose(x, perm=[0, 2, 1, 3])\n",
        "  \n",
        "\n",
        "\n",
        "  def call(self, input):\n",
        "    batchsize = tf.shape(input)[0]\n",
        "\n",
        "    query = self.query_layer(input)\n",
        "    key = self.key_layer(input)\n",
        "    value = self.value_layer(input)\n",
        "\n",
        "\n",
        "    query = self.separate_heads(batchsize, query)\n",
        "    key = self.separate_heads(batchsize, key)\n",
        "    value = self.separate_heads(batchsize, value)\n",
        "\n",
        "\n",
        "    attention, weights = self.attention(query, key, value)\n",
        "    attention = tf.transpose(attention, perm=[0, 2, 1, 3])\n",
        "    concat_attention = tf.reshape(attention, (batchsize, -1, self.e_dim))\n",
        "    output = self.combined(concat_attention)\n",
        "\n",
        "    return output"
      ],
      "execution_count": 2,
      "outputs": []
    },
    {
      "cell_type": "markdown",
      "metadata": {
        "id": "OlccAfSmkcMO"
      },
      "source": [
        "## Creating Transformer as a layer"
      ]
    },
    {
      "cell_type": "code",
      "metadata": {
        "id": "oM9hHFsmkOZM"
      },
      "source": [
        "class Transformer(keras.layers.Layer):\n",
        "  def __init__(self, e_dim, headcount, ff_dim, rate=0.1):\n",
        "    super(Transformer, self).__init__()\n",
        "    self.att = MHSAttention(e_dim, headcount)\n",
        "    self.ffn = keras.Sequential(\n",
        "            [keras.layers.Dense(ff_dim, activation=\"relu\"), keras.layers.Dense(e_dim),]\n",
        "        )\n",
        "    self.layernorm1 = keras.layers.LayerNormalization(epsilon=1e-6)\n",
        "    self.layernorm2 = keras.layers.LayerNormalization(epsilon=1e-6)\n",
        "    self.dropout1 = keras.layers.Dropout(rate)\n",
        "    self.dropout2 = keras.layers.Dropout(rate)\n",
        "\n",
        "  def call(self, inputs, training):\n",
        "      attn_output = self.att(inputs)\n",
        "      attn_output = self.dropout1(attn_output, training=training)\n",
        "      out1 = self.layernorm1(inputs + attn_output)\n",
        "      ffn_output = self.ffn(out1)\n",
        "      ffn_output = self.dropout2(ffn_output, training=training)\n",
        "      return self.layernorm2(out1 + ffn_output)"
      ],
      "execution_count": 3,
      "outputs": []
    },
    {
      "cell_type": "markdown",
      "metadata": {
        "id": "EQh9Yd_9mH2p"
      },
      "source": [
        "## Embedding layer"
      ]
    },
    {
      "cell_type": "code",
      "metadata": {
        "id": "fhuZKh4xmFSd"
      },
      "source": [
        "class TokenAndPositionEmbedding(keras.layers.Layer):\n",
        "    def __init__(self, maxLength, vocabulary, e_dim):\n",
        "        super(TokenAndPositionEmbedding, self).__init__()\n",
        "        self.token_emb = keras.layers.Embedding(input_dim=vocabulary, output_dim=e_dim)\n",
        "        self.pos_emb = keras.layers.Embedding(input_dim=maxLength, output_dim=e_dim)\n",
        "\n",
        "    def call(self, x):\n",
        "        maxLength = tf.shape(x)[-1]\n",
        "        positions = tf.range(start=0, limit=maxLength, delta=1)\n",
        "        positions = self.pos_emb(positions)\n",
        "        x = self.token_emb(x)\n",
        "        return x + positions"
      ],
      "execution_count": 8,
      "outputs": []
    },
    {
      "cell_type": "code",
      "metadata": {
        "colab": {
          "base_uri": "https://localhost:8080/"
        },
        "id": "3uCdYad7mNoO",
        "outputId": "eea69ccf-866c-487c-8f14-37dfcdfca7e8"
      },
      "source": [
        "vocabulary = 20000\n",
        "maxLength = 200\n",
        "(trainX, trainY), (valueX, valueY) = keras.datasets.imdb.load_data(num_words=vocabulary)\n",
        "print(len(trainX), \"Training sequences\")\n",
        "print(len(valueX), \"Validation sequences\")\n",
        "trainX = keras.preprocessing.sequence.pad_sequences(trainX, maxlen=maxLength)\n",
        "valueX = keras.preprocessing.sequence.pad_sequences(valueX, maxlen=maxLength)"
      ],
      "execution_count": 9,
      "outputs": [
        {
          "output_type": "stream",
          "text": [
            "25000 Training sequences\n",
            "25000 Validation sequences\n"
          ],
          "name": "stdout"
        }
      ]
    },
    {
      "cell_type": "markdown",
      "metadata": {
        "id": "_3Lnc7xamlVZ"
      },
      "source": [
        "Classifier model using transformer layer"
      ]
    },
    {
      "cell_type": "code",
      "metadata": {
        "colab": {
          "base_uri": "https://localhost:8080/"
        },
        "id": "YHlSFwMbx4Hq",
        "outputId": "7109a91c-7542-49ad-88dc-c88e6749ef55"
      },
      "source": [
        "maxLength"
      ],
      "execution_count": 6,
      "outputs": [
        {
          "output_type": "execute_result",
          "data": {
            "text/plain": [
              "200"
            ]
          },
          "metadata": {
            "tags": []
          },
          "execution_count": 6
        }
      ]
    },
    {
      "cell_type": "code",
      "metadata": {
        "id": "pIVk5aInmYVB"
      },
      "source": [
        "# Embedding size for each token\n",
        "e_dim = 32\n",
        "\n",
        "# Number of attention heads\n",
        "headcount = 2\n",
        "\n",
        "# Hidden layer size in feed forward network inside transformer\n",
        "ff_dim = 32  \n",
        "\n",
        "input = keras.layers.Input(shape=(maxLength,))\n",
        "embedding_layer = TokenAndPositionEmbedding(maxLength, vocabulary, e_dim)\n",
        "x = embedding_layer(input)\n",
        "transformerLayer = Transformer(e_dim, headcount, ff_dim)\n",
        "x = transformerLayer(x)\n",
        "x = keras.layers.GlobalAveragePooling1D()(x)\n",
        "x = keras.layers.Dropout(0.1)(x)\n",
        "x = keras.layers.Dense(20, activation=\"relu\")(x)\n",
        "x = keras.layers.Dropout(0.1)(x)\n",
        "outputs = keras.layers.Dense(2, activation=\"softmax\")(x)\n",
        "\n",
        "model = keras.Model(inputs=input, outputs=outputs)"
      ],
      "execution_count": 10,
      "outputs": []
    },
    {
      "cell_type": "markdown",
      "metadata": {
        "id": "WZUrXrF6zWyb"
      },
      "source": [
        "## Training and evaluation"
      ]
    },
    {
      "cell_type": "code",
      "metadata": {
        "id": "Nb6MjSu5mqcV",
        "colab": {
          "base_uri": "https://localhost:8080/"
        },
        "outputId": "2a16210f-b66c-427f-9d6e-d0556ecaab5d"
      },
      "source": [
        "model.compile(\"adam\", \"sparse_categorical_crossentropy\", metrics=[\"accuracy\"])\r\n",
        "history = model.fit(\r\n",
        "    trainX, trainY, batch_size=32, epochs=2, validation_data=(valueX, valueY)\r\n",
        ")"
      ],
      "execution_count": 11,
      "outputs": [
        {
          "output_type": "stream",
          "text": [
            "Epoch 1/2\n",
            "782/782 [==============================] - 16s 21ms/step - loss: 0.3841 - accuracy: 0.8206 - val_loss: 0.4093 - val_accuracy: 0.8285\n",
            "Epoch 2/2\n",
            "782/782 [==============================] - 16s 20ms/step - loss: 0.2023 - accuracy: 0.9241 - val_loss: 0.3574 - val_accuracy: 0.8657\n"
          ],
          "name": "stdout"
        }
      ]
    },
    {
      "cell_type": "code",
      "metadata": {
        "id": "4DV_20Uk0n8A"
      },
      "source": [
        ""
      ],
      "execution_count": null,
      "outputs": []
    }
  ]
}